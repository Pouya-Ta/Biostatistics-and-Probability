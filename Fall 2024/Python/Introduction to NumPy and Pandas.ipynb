{
 "cells": [
  {
   "cell_type": "markdown",
   "id": "e08b3bfa",
   "metadata": {},
   "source": [
    "# Lesson 2: Introduction to NumPy and Pandas\n",
    "## Biostatistics and Probability\n",
    "### TA: Pouya Taghipour\n",
    "### Supervisor: Dr. Mehrdad Saviz\n",
    "\n",
    "### <span style=\"color: blue;\">1. What is NumPy?</span>\n",
    "#### <span style=\"color: green;\"><em>Introduction to NumPy</em></span>\n",
    "NumPy is a Python library used for working with arrays. It is highly efficient for numerical computations, which makes it a powerful tool for data manipulation and scientific computing.\n",
    "\n",
    "Installing NumPy\n",
    "Before using NumPy, you need to install it. Run the following command:"
   ]
  },
  {
   "cell_type": "code",
   "execution_count": 1,
   "id": "e99820f6",
   "metadata": {},
   "outputs": [
    {
     "name": "stdout",
     "output_type": "stream",
     "text": [
      "Defaulting to user installation because normal site-packages is not writeable\n",
      "Requirement already satisfied: numpy in c:\\programdata\\anaconda3\\lib\\site-packages (1.23.5)\n",
      "Note: you may need to restart the kernel to use updated packages.\n"
     ]
    }
   ],
   "source": [
    "pip install numpy"
   ]
  },
  {
   "cell_type": "markdown",
   "id": "c041d171",
   "metadata": {},
   "source": [
    "### <span style=\"color: blue;\">2. Working with NumPy Arrays</span>\n",
    "#### <span style=\"color: green;\"><em>Creating Arrays</em></span>\n",
    "Arrays are the foundation of NumPy. To create an array, use the numpy.array() function:"
   ]
  },
  {
   "cell_type": "code",
   "execution_count": 2,
   "id": "d212fdaf",
   "metadata": {},
   "outputs": [
    {
     "name": "stdout",
     "output_type": "stream",
     "text": [
      "[1 2 3 4]\n"
     ]
    }
   ],
   "source": [
    "import numpy as np\n",
    "\n",
    "arr = np.array([1, 2, 3, 4])\n",
    "print(arr)  # Output: [1 2 3 4]"
   ]
  },
  {
   "cell_type": "markdown",
   "id": "4e0bc054",
   "metadata": {},
   "source": [
    "<em>Examples:</em>"
   ]
  },
  {
   "cell_type": "code",
   "execution_count": 3,
   "id": "65f29907",
   "metadata": {},
   "outputs": [
    {
     "name": "stdout",
     "output_type": "stream",
     "text": [
      "[10 20 30]\n",
      "[[1 2 3]\n",
      " [4 5 6]]\n",
      "[0 1 2 3 4 5 6 7 8 9]\n",
      "[[0. 0. 0.]\n",
      " [0. 0. 0.]\n",
      " [0. 0. 0.]]\n",
      "[[1. 1. 1. 1.]\n",
      " [1. 1. 1. 1.]]\n"
     ]
    }
   ],
   "source": [
    "# Creating a 1D array\n",
    "arr1 = np.array([10, 20, 30])\n",
    "print(arr1)  # Output: [10 20 30]\n",
    "\n",
    "# Creating a 2D array (matrix)\n",
    "arr2 = np.array([[1, 2, 3], [4, 5, 6]])\n",
    "print(arr2)\n",
    "# Output:\n",
    "# [[1 2 3]\n",
    "#  [4 5 6]]\n",
    "\n",
    "# Creating arrays using range\n",
    "arr3 = np.arange(10)\n",
    "print(arr3)  # Output: [0 1 2 3 4 5 6 7 8 9]\n",
    "\n",
    "# Creating an array of zeros\n",
    "arr4 = np.zeros((3, 3))\n",
    "print(arr4)\n",
    "# Output:\n",
    "# [[0. 0. 0.]\n",
    "#  [0. 0. 0.]\n",
    "#  [0. 0. 0.]]\n",
    "\n",
    "# Creating an array of ones\n",
    "arr5 = np.ones((2, 4))\n",
    "print(arr5)\n",
    "# Output:\n",
    "# [[1. 1. 1. 1.]\n",
    "#  [1. 1. 1. 1.]]"
   ]
  },
  {
   "cell_type": "markdown",
   "id": "2938e974",
   "metadata": {},
   "source": [
    "### Exercise 1:\n",
    "<span style=\"color: red;\">Task 1:</span>\n",
    "Create a 3x3 array of random integers between 1 and 50.\n",
    "\n",
    "<span style=\"color: red;\">Task 2:</span>\n",
    "Create a 1D array of even numbers between 0 and 20."
   ]
  },
  {
   "cell_type": "code",
   "execution_count": 4,
   "id": "c796ed20",
   "metadata": {},
   "outputs": [],
   "source": [
    "# Start coding here\n",
    "\n",
    "# End here"
   ]
  },
  {
   "cell_type": "markdown",
   "id": "f7efe0f5",
   "metadata": {},
   "source": [
    "### <span style=\"color: blue;\">3. Array Operations</span>\n",
    "#### <span style=\"color: green;\"><em>Basic Arithmetic on Arrays</em></span>\n",
    "You can perform element-wise arithmetic operations on NumPy arrays."
   ]
  },
  {
   "cell_type": "code",
   "execution_count": 5,
   "id": "8f5f964d",
   "metadata": {},
   "outputs": [
    {
     "name": "stdout",
     "output_type": "stream",
     "text": [
      "[3 4 5 6]\n",
      "[ 3  6  9 12]\n"
     ]
    }
   ],
   "source": [
    "arr = np.array([1, 2, 3, 4])\n",
    "print(arr + 2)  # Output: [3 4 5 6]\n",
    "print(arr * 3)  # Output: [ 3  6  9 12]"
   ]
  },
  {
   "cell_type": "markdown",
   "id": "22956f58",
   "metadata": {},
   "source": [
    "<em>Examples:</em>"
   ]
  },
  {
   "cell_type": "code",
   "execution_count": 6,
   "id": "bb7dd12e",
   "metadata": {},
   "outputs": [
    {
     "name": "stdout",
     "output_type": "stream",
     "text": [
      "[5 7 9]\n",
      "[ 4 10 18]\n",
      "[ 5 15 25]\n"
     ]
    }
   ],
   "source": [
    "# Adding two arrays\n",
    "arr1 = np.array([1, 2, 3])\n",
    "arr2 = np.array([4, 5, 6])\n",
    "result = arr1 + arr2\n",
    "print(result)  # Output: [5 7 9]\n",
    "\n",
    "# Multiplying arrays\n",
    "result = arr1 * arr2\n",
    "print(result)  # Output: [4 10 18]\n",
    "\n",
    "# Scalar operations\n",
    "arr = np.array([10, 20, 30])\n",
    "print(arr - 5)  # Output: [ 5 15 25]"
   ]
  },
  {
   "cell_type": "markdown",
   "id": "370e9c6a",
   "metadata": {},
   "source": [
    "#### <span style=\"color: green;\"><em>Matrix Multiplication</em></span>\n",
    "For matrix multiplication, use np.dot():"
   ]
  },
  {
   "cell_type": "code",
   "execution_count": 7,
   "id": "b7aec73d",
   "metadata": {},
   "outputs": [
    {
     "name": "stdout",
     "output_type": "stream",
     "text": [
      "[[19 22]\n",
      " [43 50]]\n"
     ]
    }
   ],
   "source": [
    "A = np.array([[1, 2], [3, 4]])\n",
    "B = np.array([[5, 6], [7, 8]])\n",
    "C = np.dot(A, B)\n",
    "print(C)\n",
    "# Output:\n",
    "# [[19 22]\n",
    "#  [43 50]]"
   ]
  },
  {
   "cell_type": "markdown",
   "id": "6d0fbed7",
   "metadata": {},
   "source": [
    "### Exercise 2:\n",
    "<span style=\"color: red;\">Task 1:</span>\n",
    "Create two 2x2 matrices. Multiply them using both element-wise multiplication and matrix multiplication.\n",
    "\n",
    "<span style=\"color: red;\">Task 2:</span>\n",
    "Create a 1D array and subtract a scalar from each element."
   ]
  },
  {
   "cell_type": "code",
   "execution_count": 8,
   "id": "0647d3c8",
   "metadata": {},
   "outputs": [],
   "source": [
    "# Start coding here\n",
    "\n",
    "# End here"
   ]
  },
  {
   "cell_type": "markdown",
   "id": "b4a5c156",
   "metadata": {},
   "source": [
    "### <span style=\"color: blue;\">4. Array Indexing and Slicing</span>\n",
    "#### <span style=\"color: green;\"><em>Accessing Elements</em></span>\n",
    "You can access array elements using indices:"
   ]
  },
  {
   "cell_type": "code",
   "execution_count": 9,
   "id": "60e63026",
   "metadata": {},
   "outputs": [
    {
     "name": "stdout",
     "output_type": "stream",
     "text": [
      "10\n"
     ]
    }
   ],
   "source": [
    "arr = np.array([10, 20, 30, 40])\n",
    "print(arr[0])  # Output: 10"
   ]
  },
  {
   "cell_type": "markdown",
   "id": "8a1bc0a7",
   "metadata": {},
   "source": [
    "<em>Examples:</em>"
   ]
  },
  {
   "cell_type": "code",
   "execution_count": 10,
   "id": "7d60a9fd",
   "metadata": {},
   "outputs": [
    {
     "name": "stdout",
     "output_type": "stream",
     "text": [
      "2\n",
      "5\n",
      "[1 2 3]\n",
      "[[3]\n",
      " [5]]\n"
     ]
    }
   ],
   "source": [
    "# Accessing 2D array elements\n",
    "arr2 = np.array([[1, 2], [3, 4], [5, 6]])\n",
    "print(arr2[0, 1])  # Output: 2\n",
    "print(arr2[2, 0])  # Output: 5\n",
    "\n",
    "# Slicing arrays\n",
    "arr = np.array([0, 1, 2, 3, 4, 5])\n",
    "print(arr[1:4])  # Output: [1 2 3]\n",
    "\n",
    "# Slicing 2D arrays\n",
    "print(arr2[1:, :1])  # Output: [[3], [5]]"
   ]
  },
  {
   "cell_type": "markdown",
   "id": "71755b1f",
   "metadata": {},
   "source": [
    "### Exercise 3:\n",
    "<span style=\"color: red;\">Task 1:</span>\n",
    "Create a 3x3 matrix and print the second row and the third column.\n",
    "\n",
    "<span style=\"color: red;\">Task 2:</span>\n",
    "Slice a 1D array to print only the even-indexed elements."
   ]
  },
  {
   "cell_type": "code",
   "execution_count": null,
   "id": "b9f20749",
   "metadata": {},
   "outputs": [],
   "source": [
    "# Start coding here\n",
    "\n",
    "# End here"
   ]
  },
  {
   "cell_type": "markdown",
   "id": "ac3a4b74",
   "metadata": {},
   "source": [
    "### <span style=\"color: blue;\">5. Introduction to Pandas</span>\n",
    "#### <span style=\"color: green;\"><em>What is Pandas?</em></span>\n",
    "Pandas is a library used for data manipulation and analysis. It provides powerful data structures like Series and DataFrame for handling labeled data.\n",
    "\n",
    "Installing Pandas\n",
    "Run the following command to install Pandas:"
   ]
  },
  {
   "cell_type": "code",
   "execution_count": 11,
   "id": "557d705d",
   "metadata": {},
   "outputs": [
    {
     "name": "stdout",
     "output_type": "stream",
     "text": [
      "Defaulting to user installation because normal site-packages is not writeable\n",
      "Requirement already satisfied: pandas in c:\\programdata\\anaconda3\\lib\\site-packages (1.5.3)\n",
      "Requirement already satisfied: numpy>=1.21.0 in c:\\programdata\\anaconda3\\lib\\site-packages (from pandas) (1.23.5)\n",
      "Requirement already satisfied: python-dateutil>=2.8.1 in c:\\programdata\\anaconda3\\lib\\site-packages (from pandas) (2.8.2)\n",
      "Requirement already satisfied: pytz>=2020.1 in c:\\programdata\\anaconda3\\lib\\site-packages (from pandas) (2022.7)\n",
      "Requirement already satisfied: six>=1.5 in c:\\programdata\\anaconda3\\lib\\site-packages (from python-dateutil>=2.8.1->pandas) (1.16.0)\n",
      "Note: you may need to restart the kernel to use updated packages.\n"
     ]
    }
   ],
   "source": [
    "pip install pandas"
   ]
  },
  {
   "cell_type": "markdown",
   "id": "e5f33e86",
   "metadata": {},
   "source": [
    "### <span style=\"color: blue;\">6. Pandas Series</span>\n",
    "#### <span style=\"color: green;\"><em>Creating a Series</em></span>\n",
    "A Series is like a column of data with an index:"
   ]
  },
  {
   "cell_type": "code",
   "execution_count": 12,
   "id": "10c2a106",
   "metadata": {},
   "outputs": [
    {
     "name": "stdout",
     "output_type": "stream",
     "text": [
      "0    10\n",
      "1    20\n",
      "2    30\n",
      "3    40\n",
      "dtype: int64\n"
     ]
    }
   ],
   "source": [
    "import pandas as pd\n",
    "\n",
    "s = pd.Series([10, 20, 30, 40])\n",
    "print(s)"
   ]
  },
  {
   "cell_type": "markdown",
   "id": "5cbaaf03",
   "metadata": {},
   "source": [
    "<em>Examples:</em>"
   ]
  },
  {
   "cell_type": "code",
   "execution_count": 13,
   "id": "7cbaeeb6",
   "metadata": {},
   "outputs": [
    {
     "name": "stdout",
     "output_type": "stream",
     "text": [
      "a    100\n",
      "b    200\n",
      "c    300\n",
      "dtype: int64\n",
      "100\n"
     ]
    }
   ],
   "source": [
    "# Creating a Series with custom index\n",
    "s = pd.Series([100, 200, 300], index=[\"a\", \"b\", \"c\"])\n",
    "print(s)\n",
    "# Output:\n",
    "# a    100\n",
    "# b    200\n",
    "# c    300\n",
    "# dtype: int64\n",
    "\n",
    "# Accessing elements by index\n",
    "print(s[\"a\"])  # Output: 100"
   ]
  },
  {
   "cell_type": "markdown",
   "id": "cd8e80d8",
   "metadata": {},
   "source": [
    "### Exercise 4:\n",
    "<span style=\"color: red;\">Task 1:</span>\n",
    "Create a Series of 5 random numbers with custom indices. Access the value at the third index.\n",
    "\n",
    "<span style=\"color: red;\">Task 2:</span>\n",
    "Create a Series with numbers from 1 to 5. Multiply each element by 2."
   ]
  },
  {
   "cell_type": "code",
   "execution_count": null,
   "id": "4be77695",
   "metadata": {},
   "outputs": [],
   "source": [
    "# Start coding here\n",
    "\n",
    "# End here"
   ]
  },
  {
   "cell_type": "markdown",
   "id": "cc5606d1",
   "metadata": {},
   "source": [
    "### <span style=\"color: blue;\">7. Pandas DataFrame</span>\n",
    "#### <span style=\"color: green;\"><em>Creating a DataFrame</em></span>\n",
    "A DataFrame is a 2D labeled data structure similar to a table:"
   ]
  },
  {
   "cell_type": "code",
   "execution_count": 18,
   "id": "39e7150f",
   "metadata": {},
   "outputs": [
    {
     "name": "stdout",
     "output_type": "stream",
     "text": [
      "      Name  Age         City\n",
      "0    Alice   25     New York\n",
      "1      Bob   30  Los Angeles\n",
      "2  Charlie   35      Chicago\n",
      "3      Ali   30             \n"
     ]
    }
   ],
   "source": [
    "data = {\n",
    "    \"Name\": [\"Alice\", \"Bob\", \"Charlie\", \"Ali\"],\n",
    "    \"Age\": [25, 30, 35, 30],\n",
    "    \"City\": [\"New York\", \"Los Angeles\", \"Chicago\", \"\"]\n",
    "}\n",
    "df = pd.DataFrame(data)\n",
    "print(df)"
   ]
  },
  {
   "cell_type": "markdown",
   "id": "a08c9d60",
   "metadata": {},
   "source": [
    "<em>Examples:</em>"
   ]
  },
  {
   "cell_type": "code",
   "execution_count": 19,
   "id": "f9ec1214",
   "metadata": {},
   "outputs": [
    {
     "name": "stdout",
     "output_type": "stream",
     "text": [
      "0      Alice\n",
      "1        Bob\n",
      "2    Charlie\n",
      "3        Ali\n",
      "Name: Name, dtype: object\n",
      "Name            Bob\n",
      "Age              30\n",
      "City    Los Angeles\n",
      "Name: 1, dtype: object\n"
     ]
    },
    {
     "ename": "ValueError",
     "evalue": "Length of values (3) does not match length of index (4)",
     "output_type": "error",
     "traceback": [
      "\u001b[1;31m---------------------------------------------------------------------------\u001b[0m",
      "\u001b[1;31mValueError\u001b[0m                                Traceback (most recent call last)",
      "Cell \u001b[1;32mIn[19], line 8\u001b[0m\n\u001b[0;32m      5\u001b[0m \u001b[38;5;28mprint\u001b[39m(df\u001b[38;5;241m.\u001b[39miloc[\u001b[38;5;241m1\u001b[39m])  \u001b[38;5;66;03m# Output: Bob's row\u001b[39;00m\n\u001b[0;32m      7\u001b[0m \u001b[38;5;66;03m# Adding a new column\u001b[39;00m\n\u001b[1;32m----> 8\u001b[0m df[\u001b[38;5;124m\"\u001b[39m\u001b[38;5;124mSalary\u001b[39m\u001b[38;5;124m\"\u001b[39m] \u001b[38;5;241m=\u001b[39m [\u001b[38;5;241m50000\u001b[39m, \u001b[38;5;241m60000\u001b[39m, \u001b[38;5;241m70000\u001b[39m]\n\u001b[0;32m      9\u001b[0m \u001b[38;5;28mprint\u001b[39m(df)\n",
      "File \u001b[1;32mC:\\ProgramData\\anaconda3\\lib\\site-packages\\pandas\\core\\frame.py:3980\u001b[0m, in \u001b[0;36mDataFrame.__setitem__\u001b[1;34m(self, key, value)\u001b[0m\n\u001b[0;32m   3977\u001b[0m     \u001b[38;5;28mself\u001b[39m\u001b[38;5;241m.\u001b[39m_setitem_array([key], value)\n\u001b[0;32m   3978\u001b[0m \u001b[38;5;28;01melse\u001b[39;00m:\n\u001b[0;32m   3979\u001b[0m     \u001b[38;5;66;03m# set column\u001b[39;00m\n\u001b[1;32m-> 3980\u001b[0m     \u001b[38;5;28;43mself\u001b[39;49m\u001b[38;5;241;43m.\u001b[39;49m\u001b[43m_set_item\u001b[49m\u001b[43m(\u001b[49m\u001b[43mkey\u001b[49m\u001b[43m,\u001b[49m\u001b[43m \u001b[49m\u001b[43mvalue\u001b[49m\u001b[43m)\u001b[49m\n",
      "File \u001b[1;32mC:\\ProgramData\\anaconda3\\lib\\site-packages\\pandas\\core\\frame.py:4174\u001b[0m, in \u001b[0;36mDataFrame._set_item\u001b[1;34m(self, key, value)\u001b[0m\n\u001b[0;32m   4164\u001b[0m \u001b[38;5;28;01mdef\u001b[39;00m \u001b[38;5;21m_set_item\u001b[39m(\u001b[38;5;28mself\u001b[39m, key, value) \u001b[38;5;241m-\u001b[39m\u001b[38;5;241m>\u001b[39m \u001b[38;5;28;01mNone\u001b[39;00m:\n\u001b[0;32m   4165\u001b[0m \u001b[38;5;250m    \u001b[39m\u001b[38;5;124;03m\"\"\"\u001b[39;00m\n\u001b[0;32m   4166\u001b[0m \u001b[38;5;124;03m    Add series to DataFrame in specified column.\u001b[39;00m\n\u001b[0;32m   4167\u001b[0m \n\u001b[1;32m   (...)\u001b[0m\n\u001b[0;32m   4172\u001b[0m \u001b[38;5;124;03m    ensure homogeneity.\u001b[39;00m\n\u001b[0;32m   4173\u001b[0m \u001b[38;5;124;03m    \"\"\"\u001b[39;00m\n\u001b[1;32m-> 4174\u001b[0m     value \u001b[38;5;241m=\u001b[39m \u001b[38;5;28;43mself\u001b[39;49m\u001b[38;5;241;43m.\u001b[39;49m\u001b[43m_sanitize_column\u001b[49m\u001b[43m(\u001b[49m\u001b[43mvalue\u001b[49m\u001b[43m)\u001b[49m\n\u001b[0;32m   4176\u001b[0m     \u001b[38;5;28;01mif\u001b[39;00m (\n\u001b[0;32m   4177\u001b[0m         key \u001b[38;5;129;01min\u001b[39;00m \u001b[38;5;28mself\u001b[39m\u001b[38;5;241m.\u001b[39mcolumns\n\u001b[0;32m   4178\u001b[0m         \u001b[38;5;129;01mand\u001b[39;00m value\u001b[38;5;241m.\u001b[39mndim \u001b[38;5;241m==\u001b[39m \u001b[38;5;241m1\u001b[39m\n\u001b[0;32m   4179\u001b[0m         \u001b[38;5;129;01mand\u001b[39;00m \u001b[38;5;129;01mnot\u001b[39;00m is_extension_array_dtype(value)\n\u001b[0;32m   4180\u001b[0m     ):\n\u001b[0;32m   4181\u001b[0m         \u001b[38;5;66;03m# broadcast across multiple columns if necessary\u001b[39;00m\n\u001b[0;32m   4182\u001b[0m         \u001b[38;5;28;01mif\u001b[39;00m \u001b[38;5;129;01mnot\u001b[39;00m \u001b[38;5;28mself\u001b[39m\u001b[38;5;241m.\u001b[39mcolumns\u001b[38;5;241m.\u001b[39mis_unique \u001b[38;5;129;01mor\u001b[39;00m \u001b[38;5;28misinstance\u001b[39m(\u001b[38;5;28mself\u001b[39m\u001b[38;5;241m.\u001b[39mcolumns, MultiIndex):\n",
      "File \u001b[1;32mC:\\ProgramData\\anaconda3\\lib\\site-packages\\pandas\\core\\frame.py:4915\u001b[0m, in \u001b[0;36mDataFrame._sanitize_column\u001b[1;34m(self, value)\u001b[0m\n\u001b[0;32m   4912\u001b[0m     \u001b[38;5;28;01mreturn\u001b[39;00m _reindex_for_setitem(Series(value), \u001b[38;5;28mself\u001b[39m\u001b[38;5;241m.\u001b[39mindex)\n\u001b[0;32m   4914\u001b[0m \u001b[38;5;28;01mif\u001b[39;00m is_list_like(value):\n\u001b[1;32m-> 4915\u001b[0m     \u001b[43mcom\u001b[49m\u001b[38;5;241;43m.\u001b[39;49m\u001b[43mrequire_length_match\u001b[49m\u001b[43m(\u001b[49m\u001b[43mvalue\u001b[49m\u001b[43m,\u001b[49m\u001b[43m \u001b[49m\u001b[38;5;28;43mself\u001b[39;49m\u001b[38;5;241;43m.\u001b[39;49m\u001b[43mindex\u001b[49m\u001b[43m)\u001b[49m\n\u001b[0;32m   4916\u001b[0m \u001b[38;5;28;01mreturn\u001b[39;00m sanitize_array(value, \u001b[38;5;28mself\u001b[39m\u001b[38;5;241m.\u001b[39mindex, copy\u001b[38;5;241m=\u001b[39m\u001b[38;5;28;01mTrue\u001b[39;00m, allow_2d\u001b[38;5;241m=\u001b[39m\u001b[38;5;28;01mTrue\u001b[39;00m)\n",
      "File \u001b[1;32mC:\\ProgramData\\anaconda3\\lib\\site-packages\\pandas\\core\\common.py:571\u001b[0m, in \u001b[0;36mrequire_length_match\u001b[1;34m(data, index)\u001b[0m\n\u001b[0;32m    567\u001b[0m \u001b[38;5;250m\u001b[39m\u001b[38;5;124;03m\"\"\"\u001b[39;00m\n\u001b[0;32m    568\u001b[0m \u001b[38;5;124;03mCheck the length of data matches the length of the index.\u001b[39;00m\n\u001b[0;32m    569\u001b[0m \u001b[38;5;124;03m\"\"\"\u001b[39;00m\n\u001b[0;32m    570\u001b[0m \u001b[38;5;28;01mif\u001b[39;00m \u001b[38;5;28mlen\u001b[39m(data) \u001b[38;5;241m!=\u001b[39m \u001b[38;5;28mlen\u001b[39m(index):\n\u001b[1;32m--> 571\u001b[0m     \u001b[38;5;28;01mraise\u001b[39;00m \u001b[38;5;167;01mValueError\u001b[39;00m(\n\u001b[0;32m    572\u001b[0m         \u001b[38;5;124m\"\u001b[39m\u001b[38;5;124mLength of values \u001b[39m\u001b[38;5;124m\"\u001b[39m\n\u001b[0;32m    573\u001b[0m         \u001b[38;5;124mf\u001b[39m\u001b[38;5;124m\"\u001b[39m\u001b[38;5;124m(\u001b[39m\u001b[38;5;132;01m{\u001b[39;00m\u001b[38;5;28mlen\u001b[39m(data)\u001b[38;5;132;01m}\u001b[39;00m\u001b[38;5;124m) \u001b[39m\u001b[38;5;124m\"\u001b[39m\n\u001b[0;32m    574\u001b[0m         \u001b[38;5;124m\"\u001b[39m\u001b[38;5;124mdoes not match length of index \u001b[39m\u001b[38;5;124m\"\u001b[39m\n\u001b[0;32m    575\u001b[0m         \u001b[38;5;124mf\u001b[39m\u001b[38;5;124m\"\u001b[39m\u001b[38;5;124m(\u001b[39m\u001b[38;5;132;01m{\u001b[39;00m\u001b[38;5;28mlen\u001b[39m(index)\u001b[38;5;132;01m}\u001b[39;00m\u001b[38;5;124m)\u001b[39m\u001b[38;5;124m\"\u001b[39m\n\u001b[0;32m    576\u001b[0m     )\n",
      "\u001b[1;31mValueError\u001b[0m: Length of values (3) does not match length of index (4)"
     ]
    }
   ],
   "source": [
    "# Accessing columns\n",
    "print(df[\"Name\"])  # Output: Alice, Bob, Charlie\n",
    "\n",
    "# Accessing rows by index\n",
    "print(df.iloc[1])  # Output: Bob's row\n",
    "\n",
    "# Adding a new column\n",
    "df[\"Salary\"] = [50000, 60000, 70000]\n",
    "print(df)"
   ]
  },
  {
   "cell_type": "markdown",
   "id": "bc5ced32",
   "metadata": {},
   "source": [
    "### Exercise 5:\n",
    "<span style=\"color: red;\">Task 1:</span>\n",
    "Create a DataFrame with 3 columns: Product, Price, and Quantity. Add a new column for Total Price which multiplies Price and Quantity.\n",
    "\n",
    "<span style=\"color: red;\">Task 2:</span>\n",
    "Create a DataFrame of students with their grades in three subjects. Calculate the average grade for each student and add it as a new column."
   ]
  },
  {
   "cell_type": "code",
   "execution_count": null,
   "id": "1b973a2d",
   "metadata": {},
   "outputs": [],
   "source": [
    "# Start coding here\n",
    "\n",
    "# End here"
   ]
  },
  {
   "cell_type": "markdown",
   "id": "9d464ea8",
   "metadata": {},
   "source": [
    "### <span style=\"color: blue;\">8. DataFrame Operations</span>\n",
    "#### <span style=\"color: green;\"><em>Basic Operations</em></span>\n",
    "You can perform operations on entire columns or rows of a DataFrame:"
   ]
  },
  {
   "cell_type": "code",
   "execution_count": null,
   "id": "444beb14",
   "metadata": {},
   "outputs": [],
   "source": [
    "# Adding a new column based on existing columns\n",
    "df[\"Discounted Price\"] = df[\"Price\"] * 0.9\n",
    "print(df)"
   ]
  },
  {
   "cell_type": "markdown",
   "id": "3295f02a",
   "metadata": {},
   "source": [
    "<em>Examples:</em>"
   ]
  },
  {
   "cell_type": "code",
   "execution_count": null,
   "id": "ec33da0d",
   "metadata": {},
   "outputs": [],
   "source": [
    "# Filtering rows based on a condition\n",
    "discounted_df = df[df[\"Discounted Price\"] > 25]\n",
    "print(discounted_df)\n",
    "\n",
    "# Sorting the DataFrame by a column\n",
    "sorted_df = df.sort_values(by=\"Price\")\n",
    "print(sorted_df)\n",
    "\n",
    "# Summing column values\n",
    "total_quantity = df[\"Quantity\"].sum()\n",
    "print(f\"Total Quantity: {total_quantity}\")"
   ]
  },
  {
   "cell_type": "markdown",
   "id": "10e787f6",
   "metadata": {},
   "source": [
    "### Exercise 6:\n",
    "<span style=\"color: red;\">Task 1:</span>\n",
    "Create a DataFrame of employees with columns Name, Age, Salary. Add a new column Bonus that is 10% of the Salary.\n",
    "\n",
    "<span style=\"color: red;\">Task 2:</span>\n",
    "Filter the employees whose Salary is greater than 50,000 and sort the DataFrame by Age."
   ]
  },
  {
   "cell_type": "code",
   "execution_count": null,
   "id": "5ca9ca58",
   "metadata": {},
   "outputs": [],
   "source": [
    "# Start coding here\n",
    "\n",
    "# End here"
   ]
  },
  {
   "cell_type": "markdown",
   "id": "039e69c9",
   "metadata": {},
   "source": [
    "### <span style=\"color: blue;\">9. Reading and Writing Data with Pandas</span>\n",
    "#### <span style=\"color: green;\"><em>Reading Data from CSV Files</em></span>\n",
    "Pandas makes it easy to load data from external sources like CSV files. Use pd.read_csv() to load data from a CSV file:"
   ]
  },
  {
   "cell_type": "code",
   "execution_count": null,
   "id": "8780e13d",
   "metadata": {},
   "outputs": [],
   "source": [
    "# Reading a CSV file\n",
    "df = pd.read_csv(\"data.csv\")\n",
    "print(df.head())"
   ]
  },
  {
   "cell_type": "markdown",
   "id": "7eaa516b",
   "metadata": {},
   "source": [
    "<em>Examples:</em>"
   ]
  },
  {
   "cell_type": "code",
   "execution_count": null,
   "id": "b1fcff06",
   "metadata": {},
   "outputs": [],
   "source": [
    "# Reading data from a CSV file\n",
    "df = pd.read_csv(\"students.csv\")\n",
    "print(df)\n",
    "\n",
    "# Saving a DataFrame to a CSV file\n",
    "df.to_csv(\"updated_students.csv\", index=False)\n",
    "\n",
    "# Reading data from an Excel file\n",
    "df_excel = pd.read_excel(\"grades.xlsx\")\n",
    "print(df_excel)"
   ]
  },
  {
   "cell_type": "markdown",
   "id": "02c5855c",
   "metadata": {},
   "source": [
    "### Exercise 7:\n",
    "<span style=\"color: red;\">Task 1:</span>\n",
    "Read data from a CSV file and print the first 5 rows.\n",
    "\n",
    "<span style=\"color: red;\">Task 2:</span>\n",
    "Save a DataFrame with columns Product, Price, Quantity to a new CSV file."
   ]
  },
  {
   "cell_type": "code",
   "execution_count": null,
   "id": "ffacc2c6",
   "metadata": {},
   "outputs": [],
   "source": [
    "# Start coding here\n",
    "\n",
    "# End here"
   ]
  },
  {
   "cell_type": "markdown",
   "id": "ba1c313b",
   "metadata": {},
   "source": [
    "### <span style=\"color: blue;\">10. Grouping and Aggregating Data</span>\n",
    "#### <span style=\"color: green;\"><em>GroupBy Function</em></span>\n",
    "You can group data using the groupby() function, which is useful for aggregating data."
   ]
  },
  {
   "cell_type": "code",
   "execution_count": null,
   "id": "4960edc9",
   "metadata": {},
   "outputs": [],
   "source": [
    "# Grouping data by a column\n",
    "grouped = df.groupby(\"City\")[\"Salary\"].mean()\n",
    "print(grouped)"
   ]
  },
  {
   "cell_type": "markdown",
   "id": "63ae94b6",
   "metadata": {},
   "source": [
    "<em>Examples:</em>"
   ]
  },
  {
   "cell_type": "code",
   "execution_count": null,
   "id": "a81444b3",
   "metadata": {},
   "outputs": [],
   "source": [
    "# Grouping by multiple columns\n",
    "grouped = df.groupby([\"City\", \"Age\"])[\"Salary\"].sum()\n",
    "print(grouped)\n",
    "\n",
    "# Aggregating using multiple functions\n",
    "agg_df = df.groupby(\"City\").agg({\"Salary\": [\"mean\", \"max\"], \"Age\": \"min\"})\n",
    "print(agg_df)"
   ]
  },
  {
   "cell_type": "markdown",
   "id": "faa260e8",
   "metadata": {},
   "source": [
    "### Exercise 8:\n",
    "<span style=\"color: red;\">Task 1:</span>\n",
    "Create a DataFrame of sales data with City, Salesperson, and Amount. Group the data by City and calculate the total Amount for each city.\n",
    "\n",
    "<span style=\"color: red;\">Task 2:</span>\n",
    "Group a DataFrame by Department and calculate the average salary for each department."
   ]
  },
  {
   "cell_type": "code",
   "execution_count": null,
   "id": "cb15a9ac",
   "metadata": {},
   "outputs": [],
   "source": [
    "# Start coding here\n",
    "\n",
    "# End here"
   ]
  },
  {
   "cell_type": "markdown",
   "id": "589e6b36",
   "metadata": {},
   "source": [
    "### <span style=\"color: blue;\">11. Merging and Concatenating DataFrames</span>\n",
    "#### <span style=\"color: green;\"><em>Concatenating DataFrames</em></span>\n",
    "You can concatenate DataFrames along rows or columns using pd.concat():"
   ]
  },
  {
   "cell_type": "code",
   "execution_count": null,
   "id": "e5096efc",
   "metadata": {},
   "outputs": [],
   "source": [
    "df1 = pd.DataFrame({\"A\": [1, 2], \"B\": [3, 4]})\n",
    "df2 = pd.DataFrame({\"A\": [5, 6], \"B\": [7, 8]})\n",
    "\n",
    "# Concatenating along rows\n",
    "df_concat = pd.concat([df1, df2], axis=0)\n",
    "print(df_concat)"
   ]
  },
  {
   "cell_type": "markdown",
   "id": "d387557d",
   "metadata": {},
   "source": [
    "<em>Examples:</em>"
   ]
  },
  {
   "cell_type": "code",
   "execution_count": null,
   "id": "a0ede3c6",
   "metadata": {},
   "outputs": [],
   "source": [
    "# Concatenating along columns\n",
    "df_concat = pd.concat([df1, df2], axis=1)\n",
    "print(df_concat)\n",
    "\n",
    "# Merging DataFrames using a common column\n",
    "left = pd.DataFrame({\"key\": [\"A\", \"B\", \"C\"], \"value\": [1, 2, 3]})\n",
    "right = pd.DataFrame({\"key\": [\"A\", \"B\", \"D\"], \"value2\": [4, 5, 6]})\n",
    "\n",
    "merged_df = pd.merge(left, right, on=\"key\", how=\"inner\")\n",
    "print(merged_df)"
   ]
  },
  {
   "cell_type": "markdown",
   "id": "c93fc164",
   "metadata": {},
   "source": [
    "### Exercise 9:\n",
    "<span style=\"color: red;\">Task 1:</span>\n",
    "Concatenate two DataFrames containing students’ names and grades in two different subjects.\n",
    "\n",
    "<span style=\"color: red;\">Task 2:</span>\n",
    "Merge two DataFrames: one containing employee data and another containing department information. Use the employee ID to merge."
   ]
  },
  {
   "cell_type": "code",
   "execution_count": null,
   "id": "c7c8f8d7",
   "metadata": {},
   "outputs": [],
   "source": [
    "# Start coding here\n",
    "\n",
    "# End here"
   ]
  },
  {
   "cell_type": "markdown",
   "id": "fa41d947",
   "metadata": {},
   "source": [
    "## Conclusion\n",
    "In this lesson, we covered the essential operations in NumPy and Pandas that will serve as the foundation for statistical and probability-related tasks in the next lesson. We explored:\n",
    "\n",
    "* NumPy arrays and operations,\n",
    "* Pandas Series and DataFrames,\n",
    "* Reading, writing, grouping, and merging data.\n",
    "\n",
    "Ensure you've understood each concept and completed the exercises. In the next session, we’ll focus on using these libraries in statistical applications."
   ]
  },
  {
   "cell_type": "code",
   "execution_count": null,
   "id": "b385ff40",
   "metadata": {},
   "outputs": [],
   "source": []
  }
 ],
 "metadata": {
  "kernelspec": {
   "display_name": "Python 3 (ipykernel)",
   "language": "python",
   "name": "python3"
  },
  "language_info": {
   "codemirror_mode": {
    "name": "ipython",
    "version": 3
   },
   "file_extension": ".py",
   "mimetype": "text/x-python",
   "name": "python",
   "nbconvert_exporter": "python",
   "pygments_lexer": "ipython3",
   "version": "3.10.9"
  }
 },
 "nbformat": 4,
 "nbformat_minor": 5
}
